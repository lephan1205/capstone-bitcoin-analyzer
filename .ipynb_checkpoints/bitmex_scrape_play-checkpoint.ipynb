{
 "cells": [
  {
   "cell_type": "code",
   "execution_count": 1,
   "metadata": {},
   "outputs": [],
   "source": [
    "from datetime import datetime as dt\n",
    "from datetime import timedelta\n",
    "import gzip\n",
    "import glob\n",
    "import os\n",
    "import shutil\n",
    "import sys\n",
    "import time\n",
    "\n",
    "import requests\n",
    "\n",
    "\n",
    "# https://public.bitmex.com/?prefix=data/trade/\n",
    "endpoint = 'https://s3-eu-west-1.amazonaws.com/public.bitmex.com/data/trade/{}.csv.gz'"
   ]
  },
  {
   "cell_type": "markdown",
   "metadata": {},
   "source": [
    "## Function"
   ]
  },
  {
   "cell_type": "code",
   "execution_count": 19,
   "metadata": {},
   "outputs": [],
   "source": [
    "end_date = dt.today() - timedelta(days=1)\n",
    "start_date = end_date - timedelta(days=2)\n",
    "date = start_date"
   ]
  },
  {
   "cell_type": "code",
   "execution_count": 20,
   "metadata": {},
   "outputs": [
    {
     "data": {
      "text/plain": [
       "'20190814'"
      ]
     },
     "execution_count": 20,
     "metadata": {},
     "output_type": "execute_result"
    }
   ],
   "source": [
    "dt.today().strftime('%Y%m%d')"
   ]
  },
  {
   "cell_type": "code",
   "execution_count": 21,
   "metadata": {},
   "outputs": [
    {
     "data": {
      "text/plain": [
       "datetime.datetime(2019, 8, 11, 23, 46, 48, 833428)"
      ]
     },
     "execution_count": 21,
     "metadata": {},
     "output_type": "execute_result"
    }
   ],
   "source": [
    "start_date"
   ]
  },
  {
   "cell_type": "code",
   "execution_count": 22,
   "metadata": {},
   "outputs": [
    {
     "data": {
      "text/plain": [
       "datetime.datetime(2019, 8, 13, 23, 46, 48, 833428)"
      ]
     },
     "execution_count": 22,
     "metadata": {},
     "output_type": "execute_result"
    }
   ],
   "source": [
    "end_date"
   ]
  },
  {
   "cell_type": "code",
   "execution_count": 32,
   "metadata": {},
   "outputs": [
    {
     "name": "stdout",
     "output_type": "stream",
     "text": [
      "0.00039505958557128906\n"
     ]
    }
   ],
   "source": [
    "# scrape code\n",
    "num_days = 1\n",
    "\n",
    "\n",
    "start = time.time()\n",
    "\n",
    "end_date = dt.today() - timedelta(days=1)\n",
    "start_date = end_date - timedelta(days=num_days)\n",
    "\n",
    "while date <= end_date:\n",
    "    date_str = date.strftime('%Y%m%d')\n",
    "    print(\"Processing {}...\".format(date))\n",
    "    count = 0\n",
    "    while True:\n",
    "        r = requests.get(endpoint.format(date_str))\n",
    "        if r.status_code == 200:\n",
    "            break\n",
    "        else:\n",
    "            count += 1\n",
    "            if count == 10:           # if response fails after 10 attempts\n",
    "                r.raise_for_status()  # raise error status\n",
    "            print(\"Error processing {} - {}, trying again\".format(date, r.status_code))\n",
    "            time.sleep(10)\n",
    "\n",
    "    # write json response to file\n",
    "    with open(date_str, 'wb') as fp:\n",
    "        fp.write(r.content)\n",
    "\n",
    "    # open and read a gzip file in binary mode\n",
    "    with gzip.open(date_str, 'rb') as fp:\n",
    "        data = fp.read()\n",
    "\n",
    "    # write to file\n",
    "    with open(date_str, 'wb') as fp:\n",
    "        fp.write(data)\n",
    "        \n",
    "    with open(\"{}.csv\".format(date_str), 'wb') as out:\n",
    "        first = True\n",
    "        with open(date_str, 'rb') as fp:\n",
    "            if first:\n",
    "                date_str.read()\n",
    "                first = False\n",
    "            shutil.copyfileobj(fp, out)\n",
    "        \n",
    "    date += timedelta(days=1)\n",
    "\n",
    "print(time.time() - start)"
   ]
  },
  {
   "cell_type": "code",
   "execution_count": 25,
   "metadata": {},
   "outputs": [
    {
     "name": "stdout",
     "output_type": "stream",
     "text": [
      "Generating CSV for 20190813\n"
     ]
    }
   ],
   "source": [
    "# merge code\n",
    "\n",
    "print(\"Generating CSV for {}\".format(date_str))\n",
    "files = sorted(glob.glob(\"{}*\"))\n",
    "with open(\"{}.csv\".format(date_str), 'wb') as out:\n",
    "    first = True\n",
    "    for f in files:\n",
    "        with open(f, 'rb') as fp:\n",
    "            if first: \n",
    "                f.readline()\n",
    "                first = False\n",
    "            shutil.copyfileobj(fp, out)\n",
    "    for f in files:\n",
    "        os.unlink(f)\n",
    "    \n",
    "    "
   ]
  },
  {
   "cell_type": "code",
   "execution_count": null,
   "metadata": {},
   "outputs": [],
   "source": []
  }
 ],
 "metadata": {
  "kernelspec": {
   "display_name": "Python 3",
   "language": "python",
   "name": "python3"
  },
  "language_info": {
   "codemirror_mode": {
    "name": "ipython",
    "version": 3
   },
   "file_extension": ".py",
   "mimetype": "text/x-python",
   "name": "python",
   "nbconvert_exporter": "python",
   "pygments_lexer": "ipython3",
   "version": "3.7.3"
  }
 },
 "nbformat": 4,
 "nbformat_minor": 2
}
